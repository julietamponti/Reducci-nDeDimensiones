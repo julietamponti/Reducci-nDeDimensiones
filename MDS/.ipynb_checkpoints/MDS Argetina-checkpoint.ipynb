{
 "cells": [
  {
   "cell_type": "markdown",
   "metadata": {},
   "source": [
    "# MDS Cities"
   ]
  },
  {
   "cell_type": "code",
   "execution_count": 1,
   "metadata": {},
   "outputs": [],
   "source": [
    "import warnings\n",
    "warnings.filterwarnings('ignore')\n",
    "\n",
    "## Interactive magics - comment out if running from another script\n",
    "%matplotlib inline\n",
    "%qtconsole"
   ]
  },
  {
   "cell_type": "code",
   "execution_count": 2,
   "metadata": {},
   "outputs": [
    {
     "name": "stdout",
     "output_type": "stream",
     "text": [
      "Automatically created module for IPython interactive environment\n"
     ]
    }
   ],
   "source": [
    "print(__doc__)\n",
    "import numpy as np\n",
    "\n",
    "from matplotlib import pyplot as plt\n",
    "\n",
    "from sklearn import manifold\n",
    "from sklearn.metrics import euclidean_distances\n",
    "\n",
    "import scipy.io\n",
    "import pandas as pd\n",
    "import numpy as np"
   ]
  },
  {
   "cell_type": "markdown",
   "metadata": {},
   "source": [
    "## Carga de datos de ciudades y Preparacion a Matriz de Distancias"
   ]
  },
  {
   "cell_type": "code",
   "execution_count": 3,
   "metadata": {},
   "outputs": [],
   "source": [
    "CIUDADES = ['Azul',\n",
    "           'B.Blanca',\n",
    "           'Bs. As.',\n",
    "           'C. Rivadavia',\n",
    "           'C. Uruguay',\n",
    "           'Concordia',\n",
    "           'Cordoba',\n",
    "           'Corrientes',\n",
    "           'Chivilcoy',\n",
    "           'Formosa',\n",
    "           'Gral Roca',\n",
    "           'Goya',\n",
    "           'Gualeg.',\n",
    "           'Junin',\n",
    "           'La Plata',\n",
    "           'La Rioja',\n",
    "           'Mar del Plata',\n",
    "           'Mendoza',\n",
    "           'Necochea',\n",
    "           'Neuquén']"
   ]
  },
  {
   "cell_type": "code",
   "execution_count": 4,
   "metadata": {},
   "outputs": [],
   "source": [
    "matriz = \"\"\"0,344,303,1446,598,726,859,1228,240,1340,835,1020,528,312,289,1376,269,1100,249,875\n",
    "344,0,647,1102,919,1070,947,1474,594,1624,491,1306,844,551,639,1408,461,1118,336,531\n",
    "303,647,0,1720,303,437,711,933,158,1181,1138,725,233,267,60,1167,404,1080,534,1178\n",
    "1446,1102,1720,0,2013,2164,1845,2576,1630,2726,1076,2408,1946,1653,1740,2294,1563,1990,1393,1116\n",
    "598,919,303,2013,0,151,628,630,353,838,1330,512,76,465,360,1088,707,1220,837,1370\n",
    "726,1070,437,2164,151,0,627,501,485,708,1460,382,206,597,490,1087,837,1119,967,1500\n",
    "859,947,711,1845,628,627,0,900,658,1048,1113,702,659,547,768,460,1115,680,1152,1153\n",
    "1228,1474,933,2576,630,501,900,0,978,190,1873,231,696,925,990,1024,1337,1490,1467,1913\n",
    "240,594,158,1630,353,485,658,978,0,1146,943,785,293,106,215,1118,509,919,520,983\n",
    "1340,1624,1181,2726,838,708,1048,190,1146,0,2073,419,904,1093,1238,1175,1585,1634,1716,2081\n",
    "835,491,1138,1076,1330,1460,1113,1873,943,2073,0,1715,1260,943,1119,1464,952,855,842,40\n",
    "1020,1306,725,2408,512,382,702,231,785,419,1715,0,582,897,782,1255,1129,1302,1259,1755\n",
    "528,844,233,1946,76,206,659,696,293,904,1260,582,0,405,290,1119,637,1202,767,1300\n",
    "312,551,267,1653,465,597,547,925,106,1093,943,897,405,0,324,1007,590,813,592,983\n",
    "289,639,60,1740,360,490,768,990,215,1238,1119,782,290,324,0,1224,355,1137,488,1159\n",
    "1376,1408,1167,2294,1088,1087,460,1024,1118,1175,1464,1255,1119,1007,1224,0,1575,612,1616,1427\n",
    "269,461,404,1563,707,837,1115,1337,509,1585,952,1129,637,590,355,1575,0,1369,130,992\n",
    "1100,1118,1080,1990,1220,1119,680,1490,919,1634,855,1302,1202,813,1137,612,1369,0,1349,815\n",
    "249,336,534,1393,837,967,1152,1467,520,1716,842,1259,767,592,488,1616,130,1349,0,862\n",
    "875,531,1178,1116,1370,1500,1153,1913,983,2081,40,1755,1300,983,1159,1427,992,815,862,0\"\"\""
   ]
  },
  {
   "cell_type": "code",
   "execution_count": 5,
   "metadata": {},
   "outputs": [],
   "source": [
    "matriz = np.array([[int(n) for n in line.split(',')] for line in matriz.split(\"\\n\")])"
   ]
  },
  {
   "cell_type": "code",
   "execution_count": 6,
   "metadata": {},
   "outputs": [
    {
     "data": {
      "text/plain": [
       "(20, 20)"
      ]
     },
     "execution_count": 6,
     "metadata": {},
     "output_type": "execute_result"
    }
   ],
   "source": [
    "matriz.shape"
   ]
  },
  {
   "cell_type": "code",
   "execution_count": 7,
   "metadata": {
    "collapsed": true
   },
   "outputs": [
    {
     "data": {
      "text/plain": [
       "array([[   0,  344,  303, 1446,  598,  726,  859, 1228,  240, 1340,  835,\n",
       "        1020,  528,  312,  289, 1376,  269, 1100,  249,  875],\n",
       "       [ 344,    0,  647, 1102,  919, 1070,  947, 1474,  594, 1624,  491,\n",
       "        1306,  844,  551,  639, 1408,  461, 1118,  336,  531],\n",
       "       [ 303,  647,    0, 1720,  303,  437,  711,  933,  158, 1181, 1138,\n",
       "         725,  233,  267,   60, 1167,  404, 1080,  534, 1178],\n",
       "       [1446, 1102, 1720,    0, 2013, 2164, 1845, 2576, 1630, 2726, 1076,\n",
       "        2408, 1946, 1653, 1740, 2294, 1563, 1990, 1393, 1116],\n",
       "       [ 598,  919,  303, 2013,    0,  151,  628,  630,  353,  838, 1330,\n",
       "         512,   76,  465,  360, 1088,  707, 1220,  837, 1370],\n",
       "       [ 726, 1070,  437, 2164,  151,    0,  627,  501,  485,  708, 1460,\n",
       "         382,  206,  597,  490, 1087,  837, 1119,  967, 1500],\n",
       "       [ 859,  947,  711, 1845,  628,  627,    0,  900,  658, 1048, 1113,\n",
       "         702,  659,  547,  768,  460, 1115,  680, 1152, 1153],\n",
       "       [1228, 1474,  933, 2576,  630,  501,  900,    0,  978,  190, 1873,\n",
       "         231,  696,  925,  990, 1024, 1337, 1490, 1467, 1913],\n",
       "       [ 240,  594,  158, 1630,  353,  485,  658,  978,    0, 1146,  943,\n",
       "         785,  293,  106,  215, 1118,  509,  919,  520,  983],\n",
       "       [1340, 1624, 1181, 2726,  838,  708, 1048,  190, 1146,    0, 2073,\n",
       "         419,  904, 1093, 1238, 1175, 1585, 1634, 1716, 2081],\n",
       "       [ 835,  491, 1138, 1076, 1330, 1460, 1113, 1873,  943, 2073,    0,\n",
       "        1715, 1260,  943, 1119, 1464,  952,  855,  842,   40],\n",
       "       [1020, 1306,  725, 2408,  512,  382,  702,  231,  785,  419, 1715,\n",
       "           0,  582,  897,  782, 1255, 1129, 1302, 1259, 1755],\n",
       "       [ 528,  844,  233, 1946,   76,  206,  659,  696,  293,  904, 1260,\n",
       "         582,    0,  405,  290, 1119,  637, 1202,  767, 1300],\n",
       "       [ 312,  551,  267, 1653,  465,  597,  547,  925,  106, 1093,  943,\n",
       "         897,  405,    0,  324, 1007,  590,  813,  592,  983],\n",
       "       [ 289,  639,   60, 1740,  360,  490,  768,  990,  215, 1238, 1119,\n",
       "         782,  290,  324,    0, 1224,  355, 1137,  488, 1159],\n",
       "       [1376, 1408, 1167, 2294, 1088, 1087,  460, 1024, 1118, 1175, 1464,\n",
       "        1255, 1119, 1007, 1224,    0, 1575,  612, 1616, 1427],\n",
       "       [ 269,  461,  404, 1563,  707,  837, 1115, 1337,  509, 1585,  952,\n",
       "        1129,  637,  590,  355, 1575,    0, 1369,  130,  992],\n",
       "       [1100, 1118, 1080, 1990, 1220, 1119,  680, 1490,  919, 1634,  855,\n",
       "        1302, 1202,  813, 1137,  612, 1369,    0, 1349,  815],\n",
       "       [ 249,  336,  534, 1393,  837,  967, 1152, 1467,  520, 1716,  842,\n",
       "        1259,  767,  592,  488, 1616,  130, 1349,    0,  862],\n",
       "       [ 875,  531, 1178, 1116, 1370, 1500, 1153, 1913,  983, 2081,   40,\n",
       "        1755, 1300,  983, 1159, 1427,  992,  815,  862,    0]])"
      ]
     },
     "execution_count": 7,
     "metadata": {},
     "output_type": "execute_result"
    }
   ],
   "source": [
    "matriz"
   ]
  },
  {
   "cell_type": "markdown",
   "metadata": {},
   "source": [
    "## Aplicando MDS\n",
    "\n",
    "Aplicamos MDS con sklearn sobre la matriz de distancias obtenida."
   ]
  },
  {
   "cell_type": "code",
   "execution_count": 8,
   "metadata": {},
   "outputs": [
    {
     "data": {
      "text/plain": [
       "array([[  267.06329135,   187.52298812],\n",
       "       [  170.00728194,   522.06590218],\n",
       "       [  233.76121328,  -107.78651505],\n",
       "       [  450.62236778,  1610.53117936],\n",
       "       [  155.02480496,  -391.83677135],\n",
       "       [   85.37755168,  -516.55769276],\n",
       "       [ -469.11872068,  -208.55472197],\n",
       "       [  -94.64122246,  -973.99900224],\n",
       "       [  101.01127043,   -21.46749902],\n",
       "       [ -142.55651628, -1166.36082629],\n",
       "       [ -218.91715953,   883.06712101],\n",
       "       [   50.84493728,  -821.59545716],\n",
       "       [  180.53593247,  -323.75598953],\n",
       "       [  -12.46119745,     6.5755283 ],\n",
       "       [  295.19533546,   -81.85537789],\n",
       "       [ -957.28241613,  -320.03030438],\n",
       "       [  524.24678219,   208.44030326],\n",
       "       [ -835.25551583,   252.85484411],\n",
       "       [  483.27567576,   360.96551247],\n",
       "       [ -266.73369622,   901.77677881]])"
      ]
     },
     "execution_count": 8,
     "metadata": {},
     "output_type": "execute_result"
    }
   ],
   "source": [
    "# indicamos que queremos dos componentes\n",
    "mds = manifold.MDS(n_components=2, max_iter=3000, eps=1e-9,\n",
    "                   dissimilarity=\"precomputed\", n_jobs=1)\n",
    "pos = mds.fit(matriz).embedding_\n",
    "pos"
   ]
  },
  {
   "cell_type": "code",
   "execution_count": 9,
   "metadata": {},
   "outputs": [
    {
     "data": {
      "image/png": "[encoded data removed]",
      "text/plain": [
       "<Figure size 432x288 with 1 Axes>"
      ]
     },
     "metadata": {
      "needs_background": "light"
     },
     "output_type": "display_data"
    }
   ],
   "source": [
    "fig = plt.figure(1)\n",
    "ax = plt.axes([0., 0., 1., 1.])\n",
    "\n",
    "plt.scatter(pos[:, 0], pos[:, 1], color='green', lw=0, label='MDS')\n",
    "plt.legend(scatterpoints=1, loc='best', shadow=False)\n",
    "\n",
    "plt.show()"
   ]
  },
  {
   "cell_type": "code",
   "execution_count": 10,
   "metadata": {},
   "outputs": [
    {
     "data": {
      "image/png": "[encoded data removed]",
      "text/plain": [
       "<Figure size 432x288 with 1 Axes>"
      ]
     },
     "metadata": {
      "needs_background": "light"
     },
     "output_type": "display_data"
    }
   ],
   "source": [
    "fig = plt.figure(1)\n",
    "ax = plt.axes([0., 0., 1., 1.])\n",
    "\n",
    "plt.scatter(pos[:, 0], pos[:, 1], color='green', lw=0, label='MDS')\n",
    "for i, txt in enumerate(CIUDADES):\n",
    "    ax.annotate(txt, (pos[i,0], pos[i,1]))\n",
    "plt.legend(scatterpoints=1, loc='best', shadow=False)\n",
    "\n",
    "plt.show()"
   ]
  },
  {
   "cell_type": "markdown",
   "metadata": {},
   "source": [
    "Tener en cuenta que las coordenadas que nos devuelve MDS pueden estar espejadas y rotadas respecto de la realidad, ya que las distances en todos los casos son las mismas, pero nos facilita el analisis de las mismas."
   ]
  }
 ],
 "metadata": {
  "kernelspec": {
   "display_name": "Python 3 (ipykernel)",
   "language": "python",
   "name": "python3"
  },
  "language_info": {
   "codemirror_mode": {
    "name": "ipython",
    "version": 3
   },
   "file_extension": ".py",
   "mimetype": "text/x-python",
   "name": "python",
   "nbconvert_exporter": "python",
   "pygments_lexer": "ipython3",
   "version": "3.8.10"
  }
 },
 "nbformat": 4,
 "nbformat_minor": 4
}
